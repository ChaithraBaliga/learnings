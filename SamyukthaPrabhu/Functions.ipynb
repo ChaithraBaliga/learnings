{
 "cells": [
  {
   "cell_type": "markdown",
   "metadata": {},
   "source": [
    "# Functions! :)"
   ]
  },
  {
   "cell_type": "markdown",
   "metadata": {},
   "source": [
    "__If you wanna add 2 numbers, then all you have to do this write this code below__|"
   ]
  },
  {
   "cell_type": "code",
   "execution_count": null,
   "metadata": {},
   "outputs": [],
   "source": [
    "a=int(input())\n",
    "print(\"a=\",a)\n",
    "b=int(input())\n",
    "print(\"b=\",b)\n",
    "c=a+b\n",
    "print(\"a+b=\",c)"
   ]
  },
  {
   "cell_type": "markdown",
   "metadata": {},
   "source": [
    "__What if you have to add such numbers many a times? Will you keep writing the above code again and again? \n",
    "No right? So, what do we do? We will use something called <font color=red>functions</font> ! \n",
    "It divides a huge program into smaller sections or modules!__"
   ]
  },
  {
   "cell_type": "markdown",
   "metadata": {},
   "source": [
    "# Syntax "
   ]
  },
  {
   "cell_type": "code",
   "execution_count": null,
   "metadata": {},
   "outputs": [],
   "source": [
    "def function_name(parameter1, parameter2): #You can add any number of parameters if you wish to\n",
    "    #your addition code goes here\n",
    "    return [expression]"
   ]
  },
  {
   "cell_type": "markdown",
   "metadata": {},
   "source": [
    "## Let us take the addition example here!"
   ]
  },
  {
   "cell_type": "code",
   "execution_count": null,
   "metadata": {},
   "outputs": [],
   "source": [
    "def addition(a,b):\n",
    "    c=a+b\n",
    "    return c"
   ]
  },
  {
   "cell_type": "code",
   "execution_count": null,
   "metadata": {},
   "outputs": [],
   "source": [
    "print(addition(2,3))"
   ]
  },
  {
   "cell_type": "markdown",
   "metadata": {},
   "source": [
    "## You can also write the example in this way"
   ]
  },
  {
   "cell_type": "code",
   "execution_count": null,
   "metadata": {},
   "outputs": [],
   "source": [
    "def addition(a,b):\n",
    "    return a+b"
   ]
  },
  {
   "cell_type": "code",
   "execution_count": null,
   "metadata": {},
   "outputs": [],
   "source": [
    "print(addition(2,2))\n",
    "print(addition(2,3))\n",
    "print(addition(2,4))\n",
    "print(addition(2,5))\n",
    "print(addition(2,6))\n",
    "print(addition(2,7))"
   ]
  },
  {
   "cell_type": "markdown",
   "metadata": {},
   "source": [
    "## Benefits of a function \n",
    "1. Reduces the size of a code\n",
    "2. Easy readability of the program\n",
    "3. The code snippet can be reused any number of times"
   ]
  },
  {
   "cell_type": "markdown",
   "metadata": {},
   "source": [
    "# Quiz : Guess the output! "
   ]
  },
  {
   "cell_type": "markdown",
   "metadata": {},
   "source": [
    "## 1. Guess the output"
   ]
  },
  {
   "cell_type": "code",
   "execution_count": null,
   "metadata": {},
   "outputs": [],
   "source": [
    "def myfunction(a=4,b=6):\n",
    "    c=a+b\n",
    "    return c\n",
    "\n",
    "print(myfunction(3,10))\n",
    "print(myfunction(4))\n",
    "print(myfunction(b=7))\n",
    "print(myfunction())"
   ]
  },
  {
   "cell_type": "markdown",
   "metadata": {},
   "source": [
    "1. print(myfunction(3,10))\n",
    "        Output : 13\n",
    "        3+10=13\n",
    "\n",
    "2. print(myfunction(4))\n",
    "        Output : 10. \n",
    "        The parameter value 4 would be taken as value of 'a' and since the other parameter value is not specified, \n",
    "        it would take the default value assigned in the function i.e. 6. Thus, 4+6=10\n",
    "\n",
    "3. print(myfunction(b=7)) \n",
    "        Output : 11. \n",
    "        Now, in the parameters, we are assigning 7 to the value of b. The value of a is not specified.\n",
    "        Hence, a would be the default value i.e. 4. Thus, a+b=4+7=11\n",
    "    \n",
    "4. print(myfunction())\n",
    "        Output : 10\n",
    "        Since there are there no values being sent as arguments, the default values are taken i.e. 4 and 6. Hence, 4+6=10"
   ]
  },
  {
   "cell_type": "markdown",
   "metadata": {},
   "source": [
    "## 2. Guess the output"
   ]
  },
  {
   "cell_type": "code",
   "execution_count": null,
   "metadata": {},
   "outputs": [],
   "source": [
    "def myfunction2(a):\n",
    "    a=51\n",
    "    return a\n",
    "\n",
    "a=25\n",
    "print(int(myfunction2(a)))\n",
    "print(a)"
   ]
  },
  {
   "cell_type": "markdown",
   "metadata": {},
   "source": [
    "1. print(int(myfunction2(a)))\n",
    "        Output : 51\n",
    "        51 is assigned inside the function and hence you are returning the same value.\n",
    "\n",
    "2. print(a)\n",
    "        Output : 25\n",
    "        Even though you would be calling the function, the value of a assigned inside the function \n",
    "        will not change outside the function. It will remain the same as assigned outside the function i.e. 25"
   ]
  },
  {
   "cell_type": "markdown",
   "metadata": {},
   "source": [
    "## 3. Guess the output"
   ]
  },
  {
   "cell_type": "code",
   "execution_count": null,
   "metadata": {},
   "outputs": [],
   "source": [
    "def myfunction3(a,b):\n",
    "    return a,b\n",
    "\n",
    "print(myfunction3(\" HI \",\" SAM \"))\n",
    "print(myfunction3(a=\" HI \",b=\" SAM \"))\n",
    "print(myfunction3(b=\" SAM \",a=\" HI \"))"
   ]
  },
  {
   "cell_type": "markdown",
   "metadata": {},
   "source": [
    "1. print(myfunction3(\" HI \",\" SAM \"))\n",
    "        Output : (' HI ', ' SAM ')\n",
    "        Simple output as usual! The first parameter is stored in variable a and second parameter is stored in variable b.\n",
    "        \n",
    "2. print(myfunction3(a=\" HI \",b=\" SAM \"))\n",
    "        Output : (' HI ', ' SAM ')\n",
    "        a=\" HI \",b=\" SAM \" assignment is done so that the calling function does not have to remember the order of\n",
    "        parameters. Hence, Hi gets assigned to a and SAM gets assigned to b and the output is obtained.\n",
    "        \n",
    "3. print(myfunction3(b=\" SAM \",a=\" HI \"))\n",
    "        Output : (' HI ', ' SAM ')\n",
    "        Even if order of variables is changed, but the values are assigned rightly to the variables of the parameter, \n",
    "        the desired output is obtained"
   ]
  }
 ],
 "metadata": {
  "kernelspec": {
   "display_name": "Python 3",
   "language": "python",
   "name": "python3"
  },
  "language_info": {
   "codemirror_mode": {
    "name": "ipython",
    "version": 3
   },
   "file_extension": ".py",
   "mimetype": "text/x-python",
   "name": "python",
   "nbconvert_exporter": "python",
   "pygments_lexer": "ipython3",
   "version": "3.7.3"
  }
 },
 "nbformat": 4,
 "nbformat_minor": 2
}
